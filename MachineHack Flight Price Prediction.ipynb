{
 "cells": [
  {
   "cell_type": "code",
   "execution_count": 1,
   "metadata": {},
   "outputs": [
    {
     "name": "stderr",
     "output_type": "stream",
     "text": [
      "C:\\Users\\Sahil Nathani\\Anaconda3\\lib\\site-packages\\sklearn\\cross_validation.py:41: DeprecationWarning: This module was deprecated in version 0.18 in favor of the model_selection module into which all the refactored classes and functions are moved. Also note that the interface of the new CV iterators are different from that of this module. This module will be removed in 0.20.\n",
      "  \"This module will be removed in 0.20.\", DeprecationWarning)\n"
     ]
    }
   ],
   "source": [
    "import pandas as pd\n",
    "import matplotlib.pyplot as plt\n",
    "import seaborn as sns\n",
    "import numpy as np\n",
    "from sklearn.preprocessing import LabelEncoder\n",
    "from sklearn import cross_validation, svm\n",
    "from sklearn.preprocessing import MultiLabelBinarizer"
   ]
  },
  {
   "cell_type": "code",
   "execution_count": 2,
   "metadata": {},
   "outputs": [],
   "source": [
    "df_train = pd.read_csv(\"C:\\\\Users\\\\Sahil Nathani\\\\Desktop\\\\Python and ML Material\\\\Databases\\\\MachineHack\\\\Flight_Ticket_Participant_Datasets\\\\train.csv\", encoding='ISO-8859-1')\n",
    "df_train = df_train.drop(['Route', 'Date_of_Journey', 'Additional_Info'], 1)\n",
    "df_test = pd.read_csv(\"C:\\\\Users\\\\Sahil Nathani\\\\Desktop\\\\Python and ML Material\\\\Databases\\\\MachineHack\\\\Flight_Ticket_Participant_Datasets\\\\test.csv\", encoding='ISO-8859-1')\n",
    "df_test = df_test.drop(['Route', 'Date_of_Journey', 'Additional_Info'], 1)"
   ]
  },
  {
   "cell_type": "code",
   "execution_count": 3,
   "metadata": {},
   "outputs": [
    {
     "name": "stdout",
     "output_type": "stream",
     "text": [
      "['IndiGo' 'Air India' 'Jet Airways' 'SpiceJet' 'Multiple carriers' 'GoAir'\n",
      " 'Vistara' 'Air Asia' 'Vistara Premium economy' 'Jet Airways Business'\n",
      " 'Multiple carriers Premium economy' 'Trujet']\n",
      "['Jet Airways' 'IndiGo' 'Multiple carriers' 'Air Asia' 'Air India'\n",
      " 'Vistara' 'SpiceJet' 'Vistara Premium economy' 'GoAir'\n",
      " 'Multiple carriers Premium economy' 'Jet Airways Business']\n",
      "Index(['Airline', 'Source', 'Destination', 'Dep_Time', 'Arrival_Time',\n",
      "       'Duration', 'Total_Stops', 'Price'],\n",
      "      dtype='object')\n",
      "False\n"
     ]
    }
   ],
   "source": [
    "print(df_train['Airline'].unique())\n",
    "print(df_test['Airline'].unique())\n",
    "print(df_train.columns)\n",
    "print(np.nan in df_train)"
   ]
  },
  {
   "cell_type": "code",
   "execution_count": 4,
   "metadata": {},
   "outputs": [],
   "source": [
    "#_____________________________Airline___________________________________#\n",
    "lb = LabelEncoder()\n",
    "lb.fit(df_train['Airline'])\n",
    "df_train['Airline'] = lb.fit_transform(df_train['Airline'])\n",
    "df_test['Airline'] = lb.fit_transform(df_test['Airline'])"
   ]
  },
  {
   "cell_type": "code",
   "execution_count": 5,
   "metadata": {},
   "outputs": [],
   "source": [
    "#________________________Dates___________________________#\n",
    "#tr = []\n",
    "#te = []\n",
    "#for each in df_train['Date_of_Journey']:\n",
    "#    each = each.split('-')[1]\n",
    "#    each = int(each)\n",
    "#    tr.append(each)\n",
    "#    \n",
    "#for each in df_test['Date_of_Journey']:    \n",
    "#    each = (each.split('-')[1])\n",
    "#    each = int(each)\n",
    "#    te.append(each)\n",
    "##'''Somehow already converted'''\n",
    "#df_train['Date_of_Journey'] = tr\n",
    "#df_test['Date_of_Journey'] = te "
   ]
  },
  {
   "cell_type": "code",
   "execution_count": 6,
   "metadata": {},
   "outputs": [],
   "source": [
    "#___________________________Sources and Destinations__________________________#\n",
    "df_train['Destination'] = df_train['Destination'].replace('Delhi', 'New Delhi')\n",
    "df_test['Destination'] = df_test['Destination'].replace('Delhi', 'New Delhi')\n",
    "\n",
    "lb.fit(df_train['Destination'])\n",
    "df_train['Destination'] = lb.fit_transform(df_train['Destination'])\n",
    "df_test['Destination'] = lb.fit_transform(df_test['Destination'])\n",
    "\n",
    "lb.fit(df_train['Source'])\n",
    "df_train['Source'] = lb.fit_transform(df_train['Source'])\n",
    "df_test['Source'] = lb.fit_transform(df_test['Source'])"
   ]
  },
  {
   "cell_type": "code",
   "execution_count": 7,
   "metadata": {},
   "outputs": [],
   "source": [
    "#___________________________Timings_______________________________#\n",
    "def timer(x):\n",
    "    try:\n",
    "       h, mi = x.split()\n",
    "       h, mi = int(h.split('h')[0]), int(mi.split('m')[0])\n",
    "       mi = mi/60.0\n",
    "       h+=mi\n",
    "    except:\n",
    "        h = x.split('h')[0]\n",
    "    return float(h)\n",
    "\n",
    "df_train['Duration'] = [timer(each) for each in df_train['Duration']]\n",
    "df_test['Duration'] = [timer(each) for each in df_test['Duration']]"
   ]
  },
  {
   "cell_type": "code",
   "execution_count": 8,
   "metadata": {},
   "outputs": [],
   "source": [
    "#____________________________DEP_TIME_____________________________#\n",
    "x = []\n",
    "y = []\n",
    "for each in df_train['Dep_Time']:\n",
    "    each = each.split(':')[0]\n",
    "    x.append(int(each))\n",
    "    \n",
    "for each in df_test['Dep_Time']:\n",
    "    each = each.split(':')[0]\n",
    "    y.append(int(each))  \n",
    "    \n",
    "df_train['Dep_Time'] = x\n",
    "df_test['Dep_Time'] = y "
   ]
  },
  {
   "cell_type": "code",
   "execution_count": 9,
   "metadata": {},
   "outputs": [],
   "source": [
    "#trainx = [] \n",
    "#testx = [] \n",
    "#for train in (df_train['Dep_Time']):\n",
    "#    if (0<=train<=4):\n",
    "#        trainx.append(0)\n",
    "#    elif (4<train<=11):\n",
    "#        trainx.append(1)\n",
    "#    elif (11<train<=17):\n",
    "#        trainx.append(2)\n",
    "#    else:\n",
    "#        trainx.append(3)\n",
    "#        \n",
    "#for test in (df_test['Dep_Time']):\n",
    "#    if (0<=test<=4):\n",
    "#        testx.append(0)\n",
    "#    elif (4<test<=11):\n",
    "#        testx.append(1)\n",
    "#    elif (11<test<=17):\n",
    "#        testx.append(2)\n",
    "#    else:\n",
    "#        testx.append(3)        \n",
    "# \n",
    "#df_train['Dep_Time'] = trainx \n",
    "#df_test['Dep_Time'] = testx \n",
    "#\n",
    "#trainx = [] \n",
    "#testx = [] \n",
    "#for train in (df_train['Arrival_Time']):\n",
    "#    if (0<=train<=4):\n",
    "#        trainx.append(0)\n",
    "#    elif (4<train<=11):\n",
    "#        trainx.append(1)\n",
    "#    elif (11<train<=17):\n",
    "#        trainx.append(2)\n",
    "#    else:\n",
    "#        trainx.append(3)\n",
    "#        \n",
    "#for test in (df_test['Arrival_Time']):\n",
    "#    if (0<=test<=4):\n",
    "#        testx.append(0)\n",
    "#    elif (4<test<=11):\n",
    "#        testx.append(1)\n",
    "#    elif (11<test<=17):\n",
    "#        testx.append(2)\n",
    "#    else:\n",
    "#        testx.append(3)        \n",
    "# \n",
    "#df_train['Arrival_Time'] = trainx \n",
    "#df_test['Arrival_Time'] = testx "
   ]
  },
  {
   "cell_type": "code",
   "execution_count": 10,
   "metadata": {},
   "outputs": [],
   "source": [
    "#___________________________ARR_TIME__________________________#\n",
    "w = []\n",
    "t = []\n",
    "for each in df_train['Arrival_Time']:\n",
    "    try:\n",
    "        each = each.split(':')[0]\n",
    "        w.append(int(each))\n",
    "    except:\n",
    "        each = each.split()[1]\n",
    "        each = each.split(':')[0]\n",
    "        w.append(int(each))\n",
    "    \n",
    "for each in df_test['Arrival_Time']:\n",
    "    try:\n",
    "        each = each.split(':')[0]\n",
    "        t.append(int(each))\n",
    "    except:\n",
    "        each = each.split()[1]\n",
    "        each = each.split(':')[0]\n",
    "        t.append(int(each))\n",
    "    \n",
    "df_train['Arrival_Time'] = w\n",
    "df_test['Arrival_Time'] = t"
   ]
  },
  {
   "cell_type": "code",
   "execution_count": 11,
   "metadata": {},
   "outputs": [
    {
     "name": "stderr",
     "output_type": "stream",
     "text": [
      "C:\\Users\\Sahil Nathani\\Anaconda3\\lib\\site-packages\\scipy\\stats\\stats.py:1713: FutureWarning: Using a non-tuple sequence for multidimensional indexing is deprecated; use `arr[tuple(seq)]` instead of `arr[seq]`. In the future this will be interpreted as an array index, `arr[np.array(seq)]`, which will result either in an error or a different result.\n",
      "  return np.add.reduce(sorted[indexer] * weights, axis=axis) / sumval\n"
     ]
    },
    {
     "data": {
      "text/plain": [
       "<matplotlib.axes._subplots.AxesSubplot at 0x13bb4f106d8>"
      ]
     },
     "execution_count": 11,
     "metadata": {},
     "output_type": "execute_result"
    },
    {
     "data": {
      "image/png": "[encoded data removed]",
      "text/plain": [
       "<Figure size 1728x720 with 1 Axes>"
      ]
     },
     "metadata": {
      "needs_background": "light"
     },
     "output_type": "display_data"
    }
   ],
   "source": [
    "plt.figure(figsize=(24, 10))\n",
    "sns.violinplot(x=df_train.Dep_Time, y=df_train.Price)"
   ]
  },
  {
   "cell_type": "code",
   "execution_count": 12,
   "metadata": {},
   "outputs": [],
   "source": [
    "#_________________________Stops__________________________#  \n",
    "stop1 = []\n",
    "stop2 = []\n",
    "for each in df_train['Total_Stops']:\n",
    "    try:\n",
    "        each = each.split()[0]\n",
    "        each = int(each)\n",
    "        stop1.append(each)\n",
    "    except:\n",
    "        each = 0\n",
    "        stop1.append(each)\n",
    "df_train['Total_Stops'] = stop1       \n",
    "\n",
    "for each in df_test['Total_Stops']:\n",
    "    try:\n",
    "        each = each.split()[0]\n",
    "        each = int(each)\n",
    "        stop2.append(each)\n",
    "    except:\n",
    "        each = 0\n",
    "        stop2.append(each)\n",
    "df_test['Total_Stops'] = stop2"
   ]
  },
  {
   "cell_type": "code",
   "execution_count": 16,
   "metadata": {},
   "outputs": [],
   "source": [
    "#_____________________________Additional_info_____________________________#\n",
    "#lb.fit(df_train['Additional_Info'])\n",
    "#df_train['Additional_Info'] = lb.fit_transform(df_train['Additional_Info'])\n",
    "#df_test['Additional_Info'] = lb.fit_transform(df_test['Additional_Info'])"
   ]
  },
  {
   "cell_type": "code",
   "execution_count": 18,
   "metadata": {},
   "outputs": [
    {
     "data": {
      "text/plain": [
       "<matplotlib.axes._subplots.AxesSubplot at 0x13bb6ecd7f0>"
      ]
     },
     "execution_count": 18,
     "metadata": {},
     "output_type": "execute_result"
    },
    {
     "data": {
      "image/png": "[encoded data removed]",
      "text/plain": [
       "<Figure size 360x360 with 1 Axes>"
      ]
     },
     "metadata": {
      "needs_background": "light"
     },
     "output_type": "display_data"
    }
   ],
   "source": [
    "df_train.columns\n",
    "plt.figure(figsize=(5, 5))\n",
    "#sns.scatterplot(x='Total_Stops', y='Price', data=df_train)\n",
    "sns.countplot(x=df_train.Total_Stops)"
   ]
  },
  {
   "cell_type": "code",
   "execution_count": null,
   "metadata": {},
   "outputs": [],
   "source": [
    "#lay_train = []\n",
    "#for x, y in zip(df_train['Duration'], df_train['Total_Stops']):\n",
    "#    z = x/(y+1)\n",
    "#    lay_train.append(z)\n",
    "#    \n",
    "#df_train['layoff'] = lay_train    \n",
    "#\n",
    "##from sklearn.model_selection import KFold\n",
    "##____________________________Layover\n",
    "#lay_test = []\n",
    "#for x, y in zip(df_test['Duration'], df_test['Total_Stops']):\n",
    "#    z = x/(y+1)\n",
    "#    lay_test.append(z)\n",
    "#    \n",
    "#df_test['layoff'] = lay_test\n",
    "\n",
    "#from sklearn.feature_selection import SelectKBest, chi2\n",
    "\n",
    "#t = SelectKBest(score_func=chi2, k=4)\n",
    "#f = t.fit(x, y)\n",
    "#print(f.scores_)"
   ]
  },
  {
   "cell_type": "code",
   "execution_count": 18,
   "metadata": {},
   "outputs": [],
   "source": [
    "y = np.array(df_train['Price'])\n",
    "x = np.array(df_train.drop(['Price'], axis=1))\n",
    "x_out = np.array(df_test)"
   ]
  },
  {
   "cell_type": "code",
   "execution_count": 19,
   "metadata": {},
   "outputs": [],
   "source": [
    "#kf = KFold(n_splits=3)\n",
    "#for train_index, test_index in kf.split(x):\n",
    "#    print(\"TRAIN:\", train_index, \"TEST:\", test_index)\n",
    "#    x_train, x_test = x[train_index], x[test_index]\n",
    "#    y_train, y_test = y[train_index], y[test_index]"
   ]
  },
  {
   "cell_type": "code",
   "execution_count": 20,
   "metadata": {},
   "outputs": [],
   "source": [
    "x_train, x_test, y_train, y_test = cross_validation.train_test_split(x, y, test_size=0.2)"
   ]
  },
  {
   "cell_type": "code",
   "execution_count": 21,
   "metadata": {
    "collapsed": true
   },
   "outputs": [
    {
     "name": "stderr",
     "output_type": "stream",
     "text": [
      "C:\\Users\\Sahil Nathani\\Anaconda3\\lib\\site-packages\\sklearn\\ensemble\\weight_boosting.py:29: DeprecationWarning: numpy.core.umath_tests is an internal NumPy module and should not be imported. It will be removed in a future NumPy release.\n",
      "  from numpy.core.umath_tests import inner1d\n"
     ]
    },
    {
     "name": "stdout",
     "output_type": "stream",
     "text": [
      "62.919479835152046\n",
      "62.93142513273424\n",
      "63.25649996854248\n",
      "63.08404448687532\n",
      "63.219505747797314\n",
      "62.93792112117009\n",
      "63.185118880746494\n",
      "62.908234595638035\n",
      "62.704168341021514\n",
      "62.94165110025053\n"
     ]
    },
    {
     "data": {
      "text/plain": [
       "'\\n#___________________XGBOOST\\nimport xgboost as xgb\\nfor i in range(10):\\n    xg = xgb.sklearn.XGBRegressor()\\n    xg.fit(x_train, y_train)\\n    accr = xg.score(x_test, y_test)\\n    print(accr*100)\\n'"
      ]
     },
     "execution_count": 21,
     "metadata": {},
     "output_type": "execute_result"
    }
   ],
   "source": [
    "'''\n",
    "#SVM___________________________36%%\n",
    "for i in range(10):\n",
    "    clf = svm.SVR(kernel='linear', C=90, gamma=0.7)\n",
    "    clf.fit(x_train, y_train)\n",
    "    acc = clf.score(x_test, y_test)\n",
    "    print(acc*100)\n",
    "'''\n",
    "#RandomForest_____________________________65%%   \n",
    "from sklearn.ensemble import RandomForestRegressor\n",
    "for i in range(10):\n",
    "    rfr = RandomForestRegressor(n_estimators=100)\n",
    "    rfr.fit(x_train, y_train)\n",
    "    accr = rfr.score(x_test, y_test) \n",
    "    print(accr*100)   \n",
    "'''    \n",
    "#LinearRegression_________________________43%%\n",
    "from sklearn.linear_model import LinearRegression\n",
    "for i in range(10):\n",
    "    linear = LinearRegression()\n",
    "    linear.fit(x_train, y_train)\n",
    "    accl = linear.score(x_test, y_test)\n",
    "    print(accl*100)\n",
    "\n",
    "#DecisionTree_____________________________57%%\n",
    "from sklearn.tree import DecisionTreeRegressor\n",
    "for i in range(10):\n",
    "    dec = DecisionTreeRegressor()\n",
    "    dec.fit(x_train, y_train)\n",
    "    accd = dec.score(x_test, y_test)\n",
    "    print(accd*100)\n",
    " \n",
    "#PolyRegression 2-53%%, 3-59%%, 4-45%% \n",
    "\n",
    "from sklearn.preprocessing import PolynomialFeatures\n",
    "from sklearn.linear_model import Ridge\n",
    "from sklearn.pipeline import make_pipeline\n",
    "\n",
    "for count, degree in enumerate([3, 4, 2]):\n",
    "    model = make_pipeline(PolynomialFeatures(degree), Ridge())\n",
    "    model.fit(x_train, y_train)\n",
    "    accr = model.score(x_test, y_test)\n",
    "    print(accr*100, degree) \n",
    "    \n",
    "#ADABoost__________________________53%\n",
    "from sklearn.ensemble import AdaBoostRegressor\n",
    "for i in range(10):\n",
    "    ada = AdaBoostRegressor(n_estimators=51)\n",
    "    ada.fit(x_train, y_train)\n",
    "    accr = ada.score(x_test, y_test) \n",
    "    print(accr*100)\n",
    "\n",
    "#GradientBoosting_________________67%\n",
    "from sklearn.ensemble import GradientBoostingRegressor \n",
    "for i in range(10):\n",
    "    gbr = GradientBoostingRegressor(n_estimators=100, random_state=42)\n",
    "    gbr.fit(x_train, y_train)\n",
    "    accr = gbr.score(x_test, y_test) \n",
    "    print(accr*100)\n",
    "    \n",
    "#BaggingRegressor__________________66%\n",
    "from sklearn.ensemble import BaggingRegressor\n",
    "for i in range(10):\n",
    "    bag = BaggingRegressor(n_estimators=21, random_state=42)\n",
    "    bag.fit(x_train, y_train)\n",
    "    accr = bag.score(x_test, y_test)\n",
    "    print(accr*100)\n",
    "    \n",
    "#BaussianNB_________________________22%\n",
    "from sklearn.naive_bayes import GaussianNB\n",
    "for i in range(10):\n",
    "    gnb = GaussianNB()\n",
    "    gnb.fit(x_train, y_train)\n",
    "    accr = gnb.score(x_test, y_test)\n",
    "    print(accr*100)\n",
    "    \n",
    "#BernoulliNB_________________________10%\n",
    "from sklearn.naive_bayes import BernoulliNB\n",
    "for i in range(10):\n",
    "    bnb = BernoulliNB()\n",
    "    bnb.fit(x_train, y_train)\n",
    "    accr = bnb.score(x_test, y_test)\n",
    "    print(accr*100)\n",
    "\n",
    "#MultinomialNB_________________________14%\n",
    "from sklearn.naive_bayes import MultinomialNB\n",
    "for i in range(10):\n",
    "    bnb = MultinomialNB()\n",
    "    bnb.fit(x_train, y_train)\n",
    "    accr = bnb.score(x_test, y_test)\n",
    "    print(accr*100)    \n",
    "'''\n",
    "'''\n",
    "#___________________XGBOOST\n",
    "import xgboost as xgb\n",
    "for i in range(10):\n",
    "    xg = xgb.sklearn.XGBRegressor()\n",
    "    xg.fit(x_train, y_train)\n",
    "    accr = xg.score(x_test, y_test)\n",
    "    print(accr*100)\n",
    "'''"
   ]
  },
  {
   "cell_type": "code",
   "execution_count": 22,
   "metadata": {},
   "outputs": [
    {
     "name": "stdout",
     "output_type": "stream",
     "text": [
      "60.786881953952054\n",
      "60.786881953952054\n",
      "60.786881953952054\n",
      "60.786881953952054\n",
      "60.786881953952054\n",
      "60.786881953952054\n",
      "60.786881953952054\n",
      "60.786881953952054\n",
      "60.786881953952054\n",
      "60.786881953952054\n"
     ]
    }
   ],
   "source": [
    "from sklearn.ensemble import GradientBoostingRegressor \n",
    "for i in range(10):\n",
    "    gbr = GradientBoostingRegressor(n_estimators=151, random_state=42)\n",
    "    gbr.fit(x_train, y_train)\n",
    "    accr = gbr.score(x_test, y_test) \n",
    "    print(accr*100)\n",
    "\n",
    "result = (gbr.predict(x_out))"
   ]
  },
  {
   "cell_type": "code",
   "execution_count": 23,
   "metadata": {},
   "outputs": [],
   "source": [
    "#from keras.models import Sequential\n",
    "#from keras.layers import Dense, Dropout, BatchNormalization\n",
    "#\n",
    "#model = Sequential()\n",
    "#model.add(Dense(128, kernel_initializer='normal', activation='relu', input_dim=x_train.shape[1]))\n",
    "##model.add(Dropout(0.4))\n",
    "##model.add(BatchNormalization())\n",
    "#model.add(Dense(128, kernel_initializer='normal', activation='relu'))\n",
    "#model.add(Dropout(0.4))\n",
    "#model.add(Dense(128, kernel_initializer='normal', activation='relu'))\n",
    "##model.add(Dropout(0.5))\n",
    "#model.add(Dense(1, kernel_initializer='normal', activation='linear'))\n",
    "# \n",
    "#model.compile(optimizer='adam', loss='mean_absolute_error', metrics=['mean_absolute_error'])\n",
    "#\n",
    "#model.fit(x_train, y_train, epochs=10, batch_size=100)"
   ]
  },
  {
   "cell_type": "code",
   "execution_count": 24,
   "metadata": {},
   "outputs": [],
   "source": [
    "result = [int(each) for each in result]\n",
    "\n",
    "out_data = pd.DataFrame(result)\n",
    "out_data.columns=['Price']\n",
    "out_data.to_excel('MachineHackFlightFees.xlsx', header=True)"
   ]
  },
  {
   "cell_type": "code",
   "execution_count": null,
   "metadata": {},
   "outputs": [],
   "source": []
  }
 ],
 "metadata": {
  "kernelspec": {
   "display_name": "Python 3",
   "language": "python",
   "name": "python3"
  },
  "language_info": {
   "codemirror_mode": {
    "name": "ipython",
    "version": 3
   },
   "file_extension": ".py",
   "mimetype": "text/x-python",
   "name": "python",
   "nbconvert_exporter": "python",
   "pygments_lexer": "ipython3",
   "version": "3.6.5"
  }
 },
 "nbformat": 4,
 "nbformat_minor": 2
}
