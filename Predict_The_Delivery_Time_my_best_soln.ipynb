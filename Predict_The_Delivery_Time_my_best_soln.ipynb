{
  "nbformat": 4,
  "nbformat_minor": 0,
  "metadata": {
    "colab": {
      "name": "Predict The Delivery Time.ipynb",
      "provenance": [],
      "collapsed_sections": []
    },
    "kernelspec": {
      "name": "python3",
      "display_name": "Python 3"
    }
  },
  "cells": [
    {
      "cell_type": "code",
      "metadata": {
        "id": "DMcbTWPDmVPU",
        "colab_type": "code",
        "colab": {}
      },
      "source": [
        "import numpy as np\n",
        "import pandas as pd\n",
        "import seaborn as sns\n",
        "sns.set_style('darkgrid')\n",
        "from sklearn.linear_model import RidgeCV,LassoCV,LinearRegression,ElasticNet\n",
        "from sklearn.ensemble import AdaBoostRegressor,GradientBoostingRegressor,BaggingRegressor,RandomForestRegressor\n",
        "from sklearn.tree import DecisionTreeRegressor\n",
        "from sklearn.model_selection import cross_val_score,KFold\n",
        "from sklearn.metrics import r2_score\n",
        "from sklearn.feature_selection import chi2,SelectKBest\n",
        "from sklearn.pipeline import make_pipeline\n",
        "from sklearn.preprocessing import RobustScaler\n",
        "import matplotlib.pyplot as plt\n",
        "from matplotlib.pylab import rcParams\n",
        "rcParams['figure.figsize']=14,16\n",
        "from xgboost import XGBRegressor\n",
        "from sklearn.model_selection import GridSearchCV"
      ],
      "execution_count": 0,
      "outputs": []
    },
    {
      "cell_type": "code",
      "metadata": {
        "id": "3Tx6eviq4S9v",
        "colab_type": "code",
        "colab": {}
      },
      "source": [
        "import warnings\n",
        "warnings.filterwarnings(\"ignore\")"
      ],
      "execution_count": 0,
      "outputs": []
    },
    {
      "cell_type": "code",
      "metadata": {
        "id": "3Mhx15_NS5zv",
        "colab_type": "code",
        "colab": {}
      },
      "source": [
        "from sklearn.preprocessing import LabelEncoder,MinMaxScaler,StandardScaler"
      ],
      "execution_count": 0,
      "outputs": []
    },
    {
      "cell_type": "code",
      "metadata": {
        "id": "3bcp57dFn2cN",
        "colab_type": "code",
        "colab": {}
      },
      "source": [
        "train = pd.read_excel('Data_Train.xlsx')\n",
        "test = pd.read_excel('Data_Test.xlsx')"
      ],
      "execution_count": 0,
      "outputs": []
    },
    {
      "cell_type": "code",
      "metadata": {
        "id": "Vf4lMt39qfiA",
        "colab_type": "code",
        "outputId": "3e3e0381-53ce-4537-dbd9-c86792665f10",
        "colab": {
          "base_uri": "https://localhost:8080/",
          "height": 423
        }
      },
      "source": [
        "train.head()"
      ],
      "execution_count": 5,
      "outputs": [
        {
          "output_type": "execute_result",
          "data": {
            "text/html": [
              "<div>\n",
              "<style scoped>\n",
              "    .dataframe tbody tr th:only-of-type {\n",
              "        vertical-align: middle;\n",
              "    }\n",
              "\n",
              "    .dataframe tbody tr th {\n",
              "        vertical-align: top;\n",
              "    }\n",
              "\n",
              "    .dataframe thead th {\n",
              "        text-align: right;\n",
              "    }\n",
              "</style>\n",
              "<table border=\"1\" class=\"dataframe\">\n",
              "  <thead>\n",
              "    <tr style=\"text-align: right;\">\n",
              "      <th></th>\n",
              "      <th>Restaurant</th>\n",
              "      <th>Location</th>\n",
              "      <th>Cuisines</th>\n",
              "      <th>Average_Cost</th>\n",
              "      <th>Minimum_Order</th>\n",
              "      <th>Rating</th>\n",
              "      <th>Votes</th>\n",
              "      <th>Reviews</th>\n",
              "      <th>Delivery_Time</th>\n",
              "    </tr>\n",
              "  </thead>\n",
              "  <tbody>\n",
              "    <tr>\n",
              "      <th>0</th>\n",
              "      <td>ID_6321</td>\n",
              "      <td>FTI College, Law College Road, Pune</td>\n",
              "      <td>Fast Food, Rolls, Burger, Salad, Wraps</td>\n",
              "      <td>₹200</td>\n",
              "      <td>₹50</td>\n",
              "      <td>3.5</td>\n",
              "      <td>12</td>\n",
              "      <td>4</td>\n",
              "      <td>30 minutes</td>\n",
              "    </tr>\n",
              "    <tr>\n",
              "      <th>1</th>\n",
              "      <td>ID_2882</td>\n",
              "      <td>Sector 3, Marathalli</td>\n",
              "      <td>Ice Cream, Desserts</td>\n",
              "      <td>₹100</td>\n",
              "      <td>₹50</td>\n",
              "      <td>3.5</td>\n",
              "      <td>11</td>\n",
              "      <td>4</td>\n",
              "      <td>30 minutes</td>\n",
              "    </tr>\n",
              "    <tr>\n",
              "      <th>2</th>\n",
              "      <td>ID_1595</td>\n",
              "      <td>Mumbai Central</td>\n",
              "      <td>Italian, Street Food, Fast Food</td>\n",
              "      <td>₹150</td>\n",
              "      <td>₹50</td>\n",
              "      <td>3.6</td>\n",
              "      <td>99</td>\n",
              "      <td>30</td>\n",
              "      <td>65 minutes</td>\n",
              "    </tr>\n",
              "    <tr>\n",
              "      <th>3</th>\n",
              "      <td>ID_5929</td>\n",
              "      <td>Sector 1, Noida</td>\n",
              "      <td>Mughlai, North Indian, Chinese</td>\n",
              "      <td>₹250</td>\n",
              "      <td>₹99</td>\n",
              "      <td>3.7</td>\n",
              "      <td>176</td>\n",
              "      <td>95</td>\n",
              "      <td>30 minutes</td>\n",
              "    </tr>\n",
              "    <tr>\n",
              "      <th>4</th>\n",
              "      <td>ID_6123</td>\n",
              "      <td>Rmz Centennial, I Gate, Whitefield</td>\n",
              "      <td>Cafe, Beverages</td>\n",
              "      <td>₹200</td>\n",
              "      <td>₹99</td>\n",
              "      <td>3.2</td>\n",
              "      <td>521</td>\n",
              "      <td>235</td>\n",
              "      <td>65 minutes</td>\n",
              "    </tr>\n",
              "  </tbody>\n",
              "</table>\n",
              "</div>"
            ],
            "text/plain": [
              "  Restaurant                             Location  ... Reviews Delivery_Time\n",
              "0    ID_6321  FTI College, Law College Road, Pune  ...       4    30 minutes\n",
              "1    ID_2882                 Sector 3, Marathalli  ...       4    30 minutes\n",
              "2    ID_1595                       Mumbai Central  ...      30    65 minutes\n",
              "3    ID_5929                      Sector 1, Noida  ...      95    30 minutes\n",
              "4    ID_6123   Rmz Centennial, I Gate, Whitefield  ...     235    65 minutes\n",
              "\n",
              "[5 rows x 9 columns]"
            ]
          },
          "metadata": {
            "tags": []
          },
          "execution_count": 5
        }
      ]
    },
    {
      "cell_type": "code",
      "metadata": {
        "id": "yWgOCLZMqlck",
        "colab_type": "code",
        "colab": {}
      },
      "source": [
        "combined = train.append(test)"
      ],
      "execution_count": 0,
      "outputs": []
    },
    {
      "cell_type": "code",
      "metadata": {
        "id": "c1ES3TOYrrjR",
        "colab_type": "code",
        "outputId": "0be41224-5935-42fa-99a3-b8faf92eb33c",
        "colab": {
          "base_uri": "https://localhost:8080/",
          "height": 35
        }
      },
      "source": [
        "combined[\"Location\"].nunique()"
      ],
      "execution_count": 7,
      "outputs": [
        {
          "output_type": "execute_result",
          "data": {
            "text/plain": [
              "35"
            ]
          },
          "metadata": {
            "tags": []
          },
          "execution_count": 7
        }
      ]
    },
    {
      "cell_type": "code",
      "metadata": {
        "id": "ibv7Bcc3r53u",
        "colab_type": "code",
        "outputId": "c9a54c3f-d5c7-4745-a647-e9e415d4f7ff",
        "colab": {
          "base_uri": "https://localhost:8080/",
          "height": 35
        }
      },
      "source": [
        "train[\"Restaurant\"].nunique()"
      ],
      "execution_count": 8,
      "outputs": [
        {
          "output_type": "execute_result",
          "data": {
            "text/plain": [
              "7480"
            ]
          },
          "metadata": {
            "tags": []
          },
          "execution_count": 8
        }
      ]
    },
    {
      "cell_type": "code",
      "metadata": {
        "id": "IrEIcfBqvx3D",
        "colab_type": "code",
        "colab": {}
      },
      "source": [
        "combined.reset_index(inplace=True,drop=True)"
      ],
      "execution_count": 0,
      "outputs": []
    },
    {
      "cell_type": "code",
      "metadata": {
        "id": "xFpdCeyOsTc5",
        "colab_type": "code",
        "colab": {}
      },
      "source": [
        "combined = combined.assign(No_of_Cuisines=np.nan)\n",
        "for i in range(len(combined)):\n",
        "  combined[\"No_of_Cuisines\"][i] = len(str(combined.iloc[i,1]).split(','))"
      ],
      "execution_count": 0,
      "outputs": []
    },
    {
      "cell_type": "code",
      "metadata": {
        "id": "mjIke8E8IQ5h",
        "colab_type": "code",
        "colab": {}
      },
      "source": [
        "combined = combined.assign(Extracted_loc='')\n",
        "for i in range(len(combined)):\n",
        "  ls = str(combined.iloc[i,3]).split(',')\n",
        "  j = len(ls)\n",
        "  combined[\"Extracted_loc\"][i] = ls[j-1]"
      ],
      "execution_count": 0,
      "outputs": []
    },
    {
      "cell_type": "code",
      "metadata": {
        "id": "pet-z4RmGQSL",
        "colab_type": "code",
        "colab": {}
      },
      "source": [
        "combined['Delivery_Time'] = combined['Delivery_Time'].str.split(' ').str[0]"
      ],
      "execution_count": 0,
      "outputs": []
    },
    {
      "cell_type": "code",
      "metadata": {
        "id": "NVcyFBO2JC84",
        "colab_type": "code",
        "colab": {}
      },
      "source": [
        "combined['Minimum_Order'] = combined['Minimum_Order'].replace({'₹':''},regex=True).map(pd.eval).astype(int)"
      ],
      "execution_count": 0,
      "outputs": []
    },
    {
      "cell_type": "code",
      "metadata": {
        "id": "Vi2ZiPBRQK-g",
        "colab_type": "code",
        "colab": {}
      },
      "source": [
        "combined['Average_Cost'] = combined['Average_Cost'].replace({\"₹\":\"\",\",\":\"\",'for':'200'},regex=True)"
      ],
      "execution_count": 0,
      "outputs": []
    },
    {
      "cell_type": "code",
      "metadata": {
        "id": "Vau4Gl3yQ6Mj",
        "colab_type": "code",
        "colab": {}
      },
      "source": [
        "combined['Average_Cost'] = combined['Average_Cost'].astype(float)"
      ],
      "execution_count": 0,
      "outputs": []
    },
    {
      "cell_type": "code",
      "metadata": {
        "id": "IbscBvdYR1Zz",
        "colab_type": "code",
        "outputId": "af16a3fd-cd55-47fc-d479-72e026abd6db",
        "colab": {
          "base_uri": "https://localhost:8080/",
          "height": 490
        }
      },
      "source": [
        "combined['Average_Cost'].value_counts()"
      ],
      "execution_count": 194,
      "outputs": [
        {
          "output_type": "execute_result",
          "data": {
            "text/plain": [
              "200.0     4062\n",
              "100.0     3221\n",
              "150.0     3051\n",
              "250.0     1104\n",
              "300.0      710\n",
              "350.0      354\n",
              "400.0      346\n",
              "50.0       337\n",
              "600.0      184\n",
              "500.0      116\n",
              "550.0       73\n",
              "450.0       72\n",
              "650.0       63\n",
              "800.0       50\n",
              "750.0       41\n",
              "700.0       19\n",
              "1000.0      16\n",
              "850.0       16\n",
              "900.0       15\n",
              "1200.0      10\n",
              "950.0        4\n",
              "1150.0       1\n",
              "1100.0       1\n",
              "2050.0       1\n",
              "1400.0       1\n",
              "Name: Average_Cost, dtype: int64"
            ]
          },
          "metadata": {
            "tags": []
          },
          "execution_count": 194
        }
      ]
    },
    {
      "cell_type": "code",
      "metadata": {
        "id": "ltb8DNV8S1tS",
        "colab_type": "code",
        "colab": {}
      },
      "source": [
        "le = LabelEncoder()\n",
        "combined['Location'] = le.fit_transform(combined['Location'])"
      ],
      "execution_count": 0,
      "outputs": []
    },
    {
      "cell_type": "code",
      "metadata": {
        "id": "CQ2f0TXC6nOo",
        "colab_type": "code",
        "colab": {}
      },
      "source": [
        "combined['Restaurant'] = le.fit_transform(combined['Restaurant'])"
      ],
      "execution_count": 0,
      "outputs": []
    },
    {
      "cell_type": "code",
      "metadata": {
        "id": "afotkVNGJxH1",
        "colab_type": "code",
        "colab": {}
      },
      "source": [
        "combined['Extracted_loc'] = le.fit_transform(combined['Extracted_loc'])"
      ],
      "execution_count": 0,
      "outputs": []
    },
    {
      "cell_type": "code",
      "metadata": {
        "id": "QafAovcQIT4H",
        "colab_type": "code",
        "outputId": "17414ebe-cf06-425f-c128-8384aee1f67b",
        "colab": {
          "base_uri": "https://localhost:8080/",
          "height": 235
        }
      },
      "source": [
        "combined.dtypes"
      ],
      "execution_count": 197,
      "outputs": [
        {
          "output_type": "execute_result",
          "data": {
            "text/plain": [
              "Average_Cost      float64\n",
              "Cuisines           object\n",
              "Delivery_Time      object\n",
              "Location            int64\n",
              "Minimum_Order       int64\n",
              "Rating             object\n",
              "Restaurant          int64\n",
              "Reviews            object\n",
              "Votes              object\n",
              "No_of_Cuisines    float64\n",
              "Extracted_loc      object\n",
              "dtype: object"
            ]
          },
          "metadata": {
            "tags": []
          },
          "execution_count": 197
        }
      ]
    },
    {
      "cell_type": "code",
      "metadata": {
        "id": "z7KBJ1GoVMrt",
        "colab_type": "code",
        "outputId": "9fdff55c-27e1-42f4-870d-ed16537626fc",
        "colab": {
          "base_uri": "https://localhost:8080/",
          "height": 635
        }
      },
      "source": [
        "combined['Rating'].value_counts()"
      ],
      "execution_count": 198,
      "outputs": [
        {
          "output_type": "execute_result",
          "data": {
            "text/plain": [
              "-                     1496\n",
              "3.7                   1081\n",
              "3.6                   1069\n",
              "3.5                   1015\n",
              "3.8                    983\n",
              "3.9                    965\n",
              "NEW                    958\n",
              "3.4                    903\n",
              "3.3                    828\n",
              "4.0                    755\n",
              "3.2                    640\n",
              "4.1                    574\n",
              "3.1                    531\n",
              "3.0                    367\n",
              "4.2                    342\n",
              "4.3                    299\n",
              "2.9                    256\n",
              "2.8                    198\n",
              "4.4                    171\n",
              "2.7                     98\n",
              "4.5                     96\n",
              "2.6                     51\n",
              "4.6                     48\n",
              "4.7                     42\n",
              "2.5                     33\n",
              "2.4                     18\n",
              "4.8                     16\n",
              "Opening Soon            14\n",
              "2.3                      8\n",
              "4.9                      8\n",
              "2.1                      2\n",
              "Temporarily Closed       2\n",
              "2.2                      1\n",
              "Name: Rating, dtype: int64"
            ]
          },
          "metadata": {
            "tags": []
          },
          "execution_count": 198
        }
      ]
    },
    {
      "cell_type": "code",
      "metadata": {
        "id": "shFPJ2ZiV8mA",
        "colab_type": "code",
        "colab": {}
      },
      "source": [
        "combined['Rating'] = combined['Rating'].replace({\"-\":\"2.5\",\"Opening Soon\":\"0\",'Temporarily Closed':'2.0',\"NEW\":\"2.0\"},regex=True)\n",
        "combined['Reviews'] = combined['Reviews'].replace({\"-\":\"0\"},regex=True)\n",
        "combined['Votes'] = combined['Votes'].replace({\"-\":\"0\"},regex=True)"
      ],
      "execution_count": 0,
      "outputs": []
    },
    {
      "cell_type": "code",
      "metadata": {
        "id": "Hsw0CtGh-Gwi",
        "colab_type": "code",
        "colab": {}
      },
      "source": [
        "combined['Cuisine1'] = combined['Cuisines'].str.split(',').str[0]\n",
        "combined['Cuisine2'] = combined['Cuisines'].str.split(',').str[1]\n",
        "combined['Cuisine3'] = combined['Cuisines'].str.split(',').str[2]\n",
        "combined['Cuisine4'] = combined['Cuisines'].str.split(',').str[3]\n",
        "combined['Cuisine5'] = combined['Cuisines'].str.split(',').str[4]\n",
        "combined['Cuisine6'] = combined['Cuisines'].str.split(',').str[5]\n",
        "combined['Cuisine7'] = combined['Cuisines'].str.split(',').str[6]\n",
        "combined['Cuisine8'] = combined['Cuisines'].str.split(',').str[7]"
      ],
      "execution_count": 0,
      "outputs": []
    },
    {
      "cell_type": "code",
      "metadata": {
        "id": "aXvmJDMJ-5Wj",
        "colab_type": "code",
        "colab": {}
      },
      "source": [
        "combined['Cuisine1'].fillna(\"None\",inplace=True)\n",
        "combined['Cuisine2'].fillna(\"None\",inplace=True)\n",
        "combined['Cuisine3'].fillna(\"None\",inplace=True)\n",
        "combined['Cuisine4'].fillna(\"None\",inplace=True)\n",
        "combined['Cuisine5'].fillna(\"None\",inplace=True)\n",
        "combined['Cuisine6'].fillna(\"None\",inplace=True)\n",
        "combined['Cuisine7'].fillna(\"None\",inplace=True)\n",
        "combined['Cuisine8'].fillna(\"None\",inplace=True)"
      ],
      "execution_count": 0,
      "outputs": []
    },
    {
      "cell_type": "code",
      "metadata": {
        "id": "rmfbf54V_ay-",
        "colab_type": "code",
        "colab": {}
      },
      "source": [
        "cuisines = ['Cuisine1','Cuisine2','Cuisine3','Cuisine4','Cuisine5','Cuisine6','Cuisine7','Cuisine8']\n",
        "combined[cuisines] = combined[cuisines].apply(le.fit_transform)"
      ],
      "execution_count": 0,
      "outputs": []
    },
    {
      "cell_type": "code",
      "metadata": {
        "id": "IDKHziFmUkAT",
        "colab_type": "code",
        "colab": {}
      },
      "source": [
        "cols = ['Delivery_Time','Rating','Reviews','Votes']\n",
        "combined[cols] = combined[cols].astype(float)"
      ],
      "execution_count": 0,
      "outputs": []
    },
    {
      "cell_type": "code",
      "metadata": {
        "id": "5QLLCCtjrV_z",
        "colab_type": "code",
        "outputId": "0888e6ae-1d78-4ddc-fafc-c57471f8b7f9",
        "colab": {
          "base_uri": "https://localhost:8080/",
          "height": 807
        }
      },
      "source": [
        "combined"
      ],
      "execution_count": 206,
      "outputs": [
        {
          "output_type": "execute_result",
          "data": {
            "text/html": [
              "<div>\n",
              "<style scoped>\n",
              "    .dataframe tbody tr th:only-of-type {\n",
              "        vertical-align: middle;\n",
              "    }\n",
              "\n",
              "    .dataframe tbody tr th {\n",
              "        vertical-align: top;\n",
              "    }\n",
              "\n",
              "    .dataframe thead th {\n",
              "        text-align: right;\n",
              "    }\n",
              "</style>\n",
              "<table border=\"1\" class=\"dataframe\">\n",
              "  <thead>\n",
              "    <tr style=\"text-align: right;\">\n",
              "      <th></th>\n",
              "      <th>Average_Cost</th>\n",
              "      <th>Cuisines</th>\n",
              "      <th>Delivery_Time</th>\n",
              "      <th>Location</th>\n",
              "      <th>Minimum_Order</th>\n",
              "      <th>Rating</th>\n",
              "      <th>Restaurant</th>\n",
              "      <th>Reviews</th>\n",
              "      <th>Votes</th>\n",
              "      <th>No_of_Cuisines</th>\n",
              "      <th>Extracted_loc</th>\n",
              "      <th>Cuisine1</th>\n",
              "      <th>Cuisine2</th>\n",
              "      <th>Cuisine3</th>\n",
              "      <th>Cuisine4</th>\n",
              "      <th>Cuisine5</th>\n",
              "      <th>Cuisine6</th>\n",
              "      <th>Cuisine7</th>\n",
              "      <th>Cuisine8</th>\n",
              "    </tr>\n",
              "  </thead>\n",
              "  <tbody>\n",
              "    <tr>\n",
              "      <th>0</th>\n",
              "      <td>200.0</td>\n",
              "      <td>Fast Food, Rolls, Burger, Salad, Wraps</td>\n",
              "      <td>30.0</td>\n",
              "      <td>10</td>\n",
              "      <td>50</td>\n",
              "      <td>3.5</td>\n",
              "      <td>5915</td>\n",
              "      <td>4.0</td>\n",
              "      <td>12.0</td>\n",
              "      <td>5.0</td>\n",
              "      <td>12</td>\n",
              "      <td>26</td>\n",
              "      <td>67</td>\n",
              "      <td>16</td>\n",
              "      <td>55</td>\n",
              "      <td>59</td>\n",
              "      <td>46</td>\n",
              "      <td>28</td>\n",
              "      <td>17</td>\n",
              "    </tr>\n",
              "    <tr>\n",
              "      <th>1</th>\n",
              "      <td>100.0</td>\n",
              "      <td>Ice Cream, Desserts</td>\n",
              "      <td>30.0</td>\n",
              "      <td>30</td>\n",
              "      <td>50</td>\n",
              "      <td>3.5</td>\n",
              "      <td>2093</td>\n",
              "      <td>4.0</td>\n",
              "      <td>11.0</td>\n",
              "      <td>2.0</td>\n",
              "      <td>8</td>\n",
              "      <td>36</td>\n",
              "      <td>25</td>\n",
              "      <td>80</td>\n",
              "      <td>68</td>\n",
              "      <td>60</td>\n",
              "      <td>46</td>\n",
              "      <td>28</td>\n",
              "      <td>17</td>\n",
              "    </tr>\n",
              "    <tr>\n",
              "      <th>2</th>\n",
              "      <td>150.0</td>\n",
              "      <td>Italian, Street Food, Fast Food</td>\n",
              "      <td>65.0</td>\n",
              "      <td>19</td>\n",
              "      <td>50</td>\n",
              "      <td>3.6</td>\n",
              "      <td>663</td>\n",
              "      <td>30.0</td>\n",
              "      <td>99.0</td>\n",
              "      <td>3.0</td>\n",
              "      <td>20</td>\n",
              "      <td>39</td>\n",
              "      <td>74</td>\n",
              "      <td>25</td>\n",
              "      <td>68</td>\n",
              "      <td>60</td>\n",
              "      <td>46</td>\n",
              "      <td>28</td>\n",
              "      <td>17</td>\n",
              "    </tr>\n",
              "    <tr>\n",
              "      <th>3</th>\n",
              "      <td>250.0</td>\n",
              "      <td>Mughlai, North Indian, Chinese</td>\n",
              "      <td>30.0</td>\n",
              "      <td>28</td>\n",
              "      <td>99</td>\n",
              "      <td>3.7</td>\n",
              "      <td>5478</td>\n",
              "      <td>95.0</td>\n",
              "      <td>176.0</td>\n",
              "      <td>3.0</td>\n",
              "      <td>11</td>\n",
              "      <td>60</td>\n",
              "      <td>60</td>\n",
              "      <td>20</td>\n",
              "      <td>68</td>\n",
              "      <td>60</td>\n",
              "      <td>46</td>\n",
              "      <td>28</td>\n",
              "      <td>17</td>\n",
              "    </tr>\n",
              "    <tr>\n",
              "      <th>4</th>\n",
              "      <td>200.0</td>\n",
              "      <td>Cafe, Beverages</td>\n",
              "      <td>65.0</td>\n",
              "      <td>26</td>\n",
              "      <td>99</td>\n",
              "      <td>3.2</td>\n",
              "      <td>5695</td>\n",
              "      <td>235.0</td>\n",
              "      <td>521.0</td>\n",
              "      <td>2.0</td>\n",
              "      <td>14</td>\n",
              "      <td>19</td>\n",
              "      <td>11</td>\n",
              "      <td>80</td>\n",
              "      <td>68</td>\n",
              "      <td>60</td>\n",
              "      <td>46</td>\n",
              "      <td>28</td>\n",
              "      <td>17</td>\n",
              "    </tr>\n",
              "    <tr>\n",
              "      <th>...</th>\n",
              "      <td>...</td>\n",
              "      <td>...</td>\n",
              "      <td>...</td>\n",
              "      <td>...</td>\n",
              "      <td>...</td>\n",
              "      <td>...</td>\n",
              "      <td>...</td>\n",
              "      <td>...</td>\n",
              "      <td>...</td>\n",
              "      <td>...</td>\n",
              "      <td>...</td>\n",
              "      <td>...</td>\n",
              "      <td>...</td>\n",
              "      <td>...</td>\n",
              "      <td>...</td>\n",
              "      <td>...</td>\n",
              "      <td>...</td>\n",
              "      <td>...</td>\n",
              "      <td>...</td>\n",
              "    </tr>\n",
              "    <tr>\n",
              "      <th>13863</th>\n",
              "      <td>100.0</td>\n",
              "      <td>Fast Food, Chinese</td>\n",
              "      <td>NaN</td>\n",
              "      <td>8</td>\n",
              "      <td>50</td>\n",
              "      <td>2.0</td>\n",
              "      <td>5938</td>\n",
              "      <td>0.0</td>\n",
              "      <td>0.0</td>\n",
              "      <td>2.0</td>\n",
              "      <td>17</td>\n",
              "      <td>26</td>\n",
              "      <td>22</td>\n",
              "      <td>80</td>\n",
              "      <td>68</td>\n",
              "      <td>60</td>\n",
              "      <td>46</td>\n",
              "      <td>28</td>\n",
              "      <td>17</td>\n",
              "    </tr>\n",
              "    <tr>\n",
              "      <th>13864</th>\n",
              "      <td>250.0</td>\n",
              "      <td>Continental, North Indian, Desserts, Beverages</td>\n",
              "      <td>NaN</td>\n",
              "      <td>17</td>\n",
              "      <td>50</td>\n",
              "      <td>3.1</td>\n",
              "      <td>8329</td>\n",
              "      <td>1.0</td>\n",
              "      <td>5.0</td>\n",
              "      <td>4.0</td>\n",
              "      <td>15</td>\n",
              "      <td>23</td>\n",
              "      <td>60</td>\n",
              "      <td>23</td>\n",
              "      <td>9</td>\n",
              "      <td>60</td>\n",
              "      <td>46</td>\n",
              "      <td>28</td>\n",
              "      <td>17</td>\n",
              "    </tr>\n",
              "    <tr>\n",
              "      <th>13865</th>\n",
              "      <td>150.0</td>\n",
              "      <td>Andhra, South Indian</td>\n",
              "      <td>NaN</td>\n",
              "      <td>22</td>\n",
              "      <td>50</td>\n",
              "      <td>3.0</td>\n",
              "      <td>6805</td>\n",
              "      <td>1.0</td>\n",
              "      <td>16.0</td>\n",
              "      <td>2.0</td>\n",
              "      <td>4</td>\n",
              "      <td>3</td>\n",
              "      <td>71</td>\n",
              "      <td>80</td>\n",
              "      <td>68</td>\n",
              "      <td>60</td>\n",
              "      <td>46</td>\n",
              "      <td>28</td>\n",
              "      <td>17</td>\n",
              "    </tr>\n",
              "    <tr>\n",
              "      <th>13866</th>\n",
              "      <td>100.0</td>\n",
              "      <td>Bakery</td>\n",
              "      <td>NaN</td>\n",
              "      <td>4</td>\n",
              "      <td>99</td>\n",
              "      <td>3.0</td>\n",
              "      <td>1641</td>\n",
              "      <td>2.0</td>\n",
              "      <td>7.0</td>\n",
              "      <td>1.0</td>\n",
              "      <td>11</td>\n",
              "      <td>9</td>\n",
              "      <td>82</td>\n",
              "      <td>80</td>\n",
              "      <td>68</td>\n",
              "      <td>60</td>\n",
              "      <td>46</td>\n",
              "      <td>28</td>\n",
              "      <td>17</td>\n",
              "    </tr>\n",
              "    <tr>\n",
              "      <th>13867</th>\n",
              "      <td>150.0</td>\n",
              "      <td>Italian, Street Food, Fast Food</td>\n",
              "      <td>NaN</td>\n",
              "      <td>9</td>\n",
              "      <td>50</td>\n",
              "      <td>3.6</td>\n",
              "      <td>663</td>\n",
              "      <td>30.0</td>\n",
              "      <td>99.0</td>\n",
              "      <td>3.0</td>\n",
              "      <td>10</td>\n",
              "      <td>39</td>\n",
              "      <td>74</td>\n",
              "      <td>25</td>\n",
              "      <td>68</td>\n",
              "      <td>60</td>\n",
              "      <td>46</td>\n",
              "      <td>28</td>\n",
              "      <td>17</td>\n",
              "    </tr>\n",
              "  </tbody>\n",
              "</table>\n",
              "<p>13868 rows × 19 columns</p>\n",
              "</div>"
            ],
            "text/plain": [
              "       Average_Cost  ... Cuisine8\n",
              "0             200.0  ...       17\n",
              "1             100.0  ...       17\n",
              "2             150.0  ...       17\n",
              "3             250.0  ...       17\n",
              "4             200.0  ...       17\n",
              "...             ...  ...      ...\n",
              "13863         100.0  ...       17\n",
              "13864         250.0  ...       17\n",
              "13865         150.0  ...       17\n",
              "13866         100.0  ...       17\n",
              "13867         150.0  ...       17\n",
              "\n",
              "[13868 rows x 19 columns]"
            ]
          },
          "metadata": {
            "tags": []
          },
          "execution_count": 206
        }
      ]
    },
    {
      "cell_type": "code",
      "metadata": {
        "id": "_ZLf34-fXT1G",
        "colab_type": "code",
        "colab": {}
      },
      "source": [
        "train_data = combined[0:11094]\n",
        "test_data = combined[11094:]\n",
        "test_data.drop(['Delivery_Time'],axis=1,inplace=True)"
      ],
      "execution_count": 0,
      "outputs": []
    },
    {
      "cell_type": "code",
      "metadata": {
        "id": "55x_sQUk8x7W",
        "colab_type": "code",
        "outputId": "4bfa7a94-965e-4c46-b4c8-638852e7efec",
        "colab": {
          "base_uri": "https://localhost:8080/",
          "height": 773
        }
      },
      "source": [
        "test_data"
      ],
      "execution_count": 208,
      "outputs": [
        {
          "output_type": "execute_result",
          "data": {
            "text/html": [
              "<div>\n",
              "<style scoped>\n",
              "    .dataframe tbody tr th:only-of-type {\n",
              "        vertical-align: middle;\n",
              "    }\n",
              "\n",
              "    .dataframe tbody tr th {\n",
              "        vertical-align: top;\n",
              "    }\n",
              "\n",
              "    .dataframe thead th {\n",
              "        text-align: right;\n",
              "    }\n",
              "</style>\n",
              "<table border=\"1\" class=\"dataframe\">\n",
              "  <thead>\n",
              "    <tr style=\"text-align: right;\">\n",
              "      <th></th>\n",
              "      <th>Average_Cost</th>\n",
              "      <th>Cuisines</th>\n",
              "      <th>Location</th>\n",
              "      <th>Minimum_Order</th>\n",
              "      <th>Rating</th>\n",
              "      <th>Restaurant</th>\n",
              "      <th>Reviews</th>\n",
              "      <th>Votes</th>\n",
              "      <th>No_of_Cuisines</th>\n",
              "      <th>Extracted_loc</th>\n",
              "      <th>Cuisine1</th>\n",
              "      <th>Cuisine2</th>\n",
              "      <th>Cuisine3</th>\n",
              "      <th>Cuisine4</th>\n",
              "      <th>Cuisine5</th>\n",
              "      <th>Cuisine6</th>\n",
              "      <th>Cuisine7</th>\n",
              "      <th>Cuisine8</th>\n",
              "    </tr>\n",
              "  </thead>\n",
              "  <tbody>\n",
              "    <tr>\n",
              "      <th>11094</th>\n",
              "      <td>350.0</td>\n",
              "      <td>North Indian, Chinese, Assamese</td>\n",
              "      <td>17</td>\n",
              "      <td>50</td>\n",
              "      <td>4.2</td>\n",
              "      <td>2049</td>\n",
              "      <td>225.0</td>\n",
              "      <td>361.0</td>\n",
              "      <td>3.0</td>\n",
              "      <td>15</td>\n",
              "      <td>63</td>\n",
              "      <td>22</td>\n",
              "      <td>5</td>\n",
              "      <td>68</td>\n",
              "      <td>60</td>\n",
              "      <td>46</td>\n",
              "      <td>28</td>\n",
              "      <td>17</td>\n",
              "    </tr>\n",
              "    <tr>\n",
              "      <th>11095</th>\n",
              "      <td>100.0</td>\n",
              "      <td>Biryani, Kebab</td>\n",
              "      <td>17</td>\n",
              "      <td>50</td>\n",
              "      <td>2.0</td>\n",
              "      <td>7002</td>\n",
              "      <td>0.0</td>\n",
              "      <td>0.0</td>\n",
              "      <td>2.0</td>\n",
              "      <td>15</td>\n",
              "      <td>14</td>\n",
              "      <td>40</td>\n",
              "      <td>80</td>\n",
              "      <td>68</td>\n",
              "      <td>60</td>\n",
              "      <td>46</td>\n",
              "      <td>28</td>\n",
              "      <td>17</td>\n",
              "    </tr>\n",
              "    <tr>\n",
              "      <th>11096</th>\n",
              "      <td>100.0</td>\n",
              "      <td>Fast Food</td>\n",
              "      <td>28</td>\n",
              "      <td>50</td>\n",
              "      <td>3.6</td>\n",
              "      <td>4025</td>\n",
              "      <td>16.0</td>\n",
              "      <td>36.0</td>\n",
              "      <td>1.0</td>\n",
              "      <td>11</td>\n",
              "      <td>26</td>\n",
              "      <td>82</td>\n",
              "      <td>80</td>\n",
              "      <td>68</td>\n",
              "      <td>60</td>\n",
              "      <td>46</td>\n",
              "      <td>28</td>\n",
              "      <td>17</td>\n",
              "    </tr>\n",
              "    <tr>\n",
              "      <th>11097</th>\n",
              "      <td>200.0</td>\n",
              "      <td>Mithai, North Indian, Chinese, Fast Food, Sout...</td>\n",
              "      <td>1</td>\n",
              "      <td>50</td>\n",
              "      <td>3.6</td>\n",
              "      <td>4969</td>\n",
              "      <td>33.0</td>\n",
              "      <td>66.0</td>\n",
              "      <td>5.0</td>\n",
              "      <td>1</td>\n",
              "      <td>57</td>\n",
              "      <td>60</td>\n",
              "      <td>20</td>\n",
              "      <td>20</td>\n",
              "      <td>51</td>\n",
              "      <td>46</td>\n",
              "      <td>28</td>\n",
              "      <td>17</td>\n",
              "    </tr>\n",
              "    <tr>\n",
              "      <th>11098</th>\n",
              "      <td>150.0</td>\n",
              "      <td>Chinese, Fast Food</td>\n",
              "      <td>28</td>\n",
              "      <td>50</td>\n",
              "      <td>2.9</td>\n",
              "      <td>2501</td>\n",
              "      <td>14.0</td>\n",
              "      <td>38.0</td>\n",
              "      <td>2.0</td>\n",
              "      <td>11</td>\n",
              "      <td>21</td>\n",
              "      <td>27</td>\n",
              "      <td>80</td>\n",
              "      <td>68</td>\n",
              "      <td>60</td>\n",
              "      <td>46</td>\n",
              "      <td>28</td>\n",
              "      <td>17</td>\n",
              "    </tr>\n",
              "    <tr>\n",
              "      <th>...</th>\n",
              "      <td>...</td>\n",
              "      <td>...</td>\n",
              "      <td>...</td>\n",
              "      <td>...</td>\n",
              "      <td>...</td>\n",
              "      <td>...</td>\n",
              "      <td>...</td>\n",
              "      <td>...</td>\n",
              "      <td>...</td>\n",
              "      <td>...</td>\n",
              "      <td>...</td>\n",
              "      <td>...</td>\n",
              "      <td>...</td>\n",
              "      <td>...</td>\n",
              "      <td>...</td>\n",
              "      <td>...</td>\n",
              "      <td>...</td>\n",
              "      <td>...</td>\n",
              "    </tr>\n",
              "    <tr>\n",
              "      <th>13863</th>\n",
              "      <td>100.0</td>\n",
              "      <td>Fast Food, Chinese</td>\n",
              "      <td>8</td>\n",
              "      <td>50</td>\n",
              "      <td>2.0</td>\n",
              "      <td>5938</td>\n",
              "      <td>0.0</td>\n",
              "      <td>0.0</td>\n",
              "      <td>2.0</td>\n",
              "      <td>17</td>\n",
              "      <td>26</td>\n",
              "      <td>22</td>\n",
              "      <td>80</td>\n",
              "      <td>68</td>\n",
              "      <td>60</td>\n",
              "      <td>46</td>\n",
              "      <td>28</td>\n",
              "      <td>17</td>\n",
              "    </tr>\n",
              "    <tr>\n",
              "      <th>13864</th>\n",
              "      <td>250.0</td>\n",
              "      <td>Continental, North Indian, Desserts, Beverages</td>\n",
              "      <td>17</td>\n",
              "      <td>50</td>\n",
              "      <td>3.1</td>\n",
              "      <td>8329</td>\n",
              "      <td>1.0</td>\n",
              "      <td>5.0</td>\n",
              "      <td>4.0</td>\n",
              "      <td>15</td>\n",
              "      <td>23</td>\n",
              "      <td>60</td>\n",
              "      <td>23</td>\n",
              "      <td>9</td>\n",
              "      <td>60</td>\n",
              "      <td>46</td>\n",
              "      <td>28</td>\n",
              "      <td>17</td>\n",
              "    </tr>\n",
              "    <tr>\n",
              "      <th>13865</th>\n",
              "      <td>150.0</td>\n",
              "      <td>Andhra, South Indian</td>\n",
              "      <td>22</td>\n",
              "      <td>50</td>\n",
              "      <td>3.0</td>\n",
              "      <td>6805</td>\n",
              "      <td>1.0</td>\n",
              "      <td>16.0</td>\n",
              "      <td>2.0</td>\n",
              "      <td>4</td>\n",
              "      <td>3</td>\n",
              "      <td>71</td>\n",
              "      <td>80</td>\n",
              "      <td>68</td>\n",
              "      <td>60</td>\n",
              "      <td>46</td>\n",
              "      <td>28</td>\n",
              "      <td>17</td>\n",
              "    </tr>\n",
              "    <tr>\n",
              "      <th>13866</th>\n",
              "      <td>100.0</td>\n",
              "      <td>Bakery</td>\n",
              "      <td>4</td>\n",
              "      <td>99</td>\n",
              "      <td>3.0</td>\n",
              "      <td>1641</td>\n",
              "      <td>2.0</td>\n",
              "      <td>7.0</td>\n",
              "      <td>1.0</td>\n",
              "      <td>11</td>\n",
              "      <td>9</td>\n",
              "      <td>82</td>\n",
              "      <td>80</td>\n",
              "      <td>68</td>\n",
              "      <td>60</td>\n",
              "      <td>46</td>\n",
              "      <td>28</td>\n",
              "      <td>17</td>\n",
              "    </tr>\n",
              "    <tr>\n",
              "      <th>13867</th>\n",
              "      <td>150.0</td>\n",
              "      <td>Italian, Street Food, Fast Food</td>\n",
              "      <td>9</td>\n",
              "      <td>50</td>\n",
              "      <td>3.6</td>\n",
              "      <td>663</td>\n",
              "      <td>30.0</td>\n",
              "      <td>99.0</td>\n",
              "      <td>3.0</td>\n",
              "      <td>10</td>\n",
              "      <td>39</td>\n",
              "      <td>74</td>\n",
              "      <td>25</td>\n",
              "      <td>68</td>\n",
              "      <td>60</td>\n",
              "      <td>46</td>\n",
              "      <td>28</td>\n",
              "      <td>17</td>\n",
              "    </tr>\n",
              "  </tbody>\n",
              "</table>\n",
              "<p>2774 rows × 18 columns</p>\n",
              "</div>"
            ],
            "text/plain": [
              "       Average_Cost  ... Cuisine8\n",
              "11094         350.0  ...       17\n",
              "11095         100.0  ...       17\n",
              "11096         100.0  ...       17\n",
              "11097         200.0  ...       17\n",
              "11098         150.0  ...       17\n",
              "...             ...  ...      ...\n",
              "13863         100.0  ...       17\n",
              "13864         250.0  ...       17\n",
              "13865         150.0  ...       17\n",
              "13866         100.0  ...       17\n",
              "13867         150.0  ...       17\n",
              "\n",
              "[2774 rows x 18 columns]"
            ]
          },
          "metadata": {
            "tags": []
          },
          "execution_count": 208
        }
      ]
    },
    {
      "cell_type": "code",
      "metadata": {
        "id": "JXsa66VS9cpU",
        "colab_type": "code",
        "colab": {
          "base_uri": "https://localhost:8080/",
          "height": 181
        },
        "outputId": "75d17f70-ac77-402e-ca4c-b196f98c1f35"
      },
      "source": [
        "combined['No_of_Cuisines'].value_counts()"
      ],
      "execution_count": 113,
      "outputs": [
        {
          "output_type": "execute_result",
          "data": {
            "text/plain": [
              "2.0    4907\n",
              "1.0    3785\n",
              "3.0    3066\n",
              "4.0    1316\n",
              "5.0     498\n",
              "6.0     156\n",
              "7.0      85\n",
              "8.0      55\n",
              "Name: No_of_Cuisines, dtype: int64"
            ]
          },
          "metadata": {
            "tags": []
          },
          "execution_count": 113
        }
      ]
    },
    {
      "cell_type": "code",
      "metadata": {
        "id": "A-WWnvg6YkCv",
        "colab_type": "code",
        "colab": {}
      },
      "source": [
        "num_cols = ['Average_Cost','Delivery_Time','Minimum_Order','Rating','Reviews','Votes','No_of_Cuisines','Cuisine1','Cuisine2','Cuisine3','Cuisine4','Cuisine5','Cuisine6','Cuisine7','Cuisine8']\n",
        "train_data = train_data[num_cols]"
      ],
      "execution_count": 0,
      "outputs": []
    },
    {
      "cell_type": "code",
      "metadata": {
        "id": "rZtj_cqXY7HW",
        "colab_type": "code",
        "outputId": "5534824f-d928-4cc6-911f-ca39e2756649",
        "colab": {
          "base_uri": "https://localhost:8080/",
          "height": 1000
        }
      },
      "source": [
        "sns.heatmap(train_data.corr(),annot=True,cmap='coolwarm',fmt='.2g')"
      ],
      "execution_count": 226,
      "outputs": [
        {
          "output_type": "execute_result",
          "data": {
            "text/plain": [
              "<matplotlib.axes._subplots.AxesSubplot at 0x7f67f5204b70>"
            ]
          },
          "metadata": {
            "tags": []
          },
          "execution_count": 226
        },
        {
          "output_type": "display_data",
          "data": {
            "image/png": "[encoded data removed]",
            "text/plain": [
              "<Figure size 1008x1152 with 2 Axes>"
            ]
          },
          "metadata": {
            "tags": []
          }
        }
      ]
    },
    {
      "cell_type": "code",
      "metadata": {
        "id": "VJUa9qIQYWGq",
        "colab_type": "code",
        "colab": {}
      },
      "source": [
        "train_time = train_data[\"Delivery_Time\"]\n",
        "train_data.drop(['Delivery_Time'],axis=1,inplace=True)"
      ],
      "execution_count": 0,
      "outputs": []
    },
    {
      "cell_type": "code",
      "metadata": {
        "id": "4UUEcRrBcpQ3",
        "colab_type": "code",
        "colab": {}
      },
      "source": [
        "inner_cv = KFold(n_splits=5,shuffle=True,random_state=42)\n",
        "outer_cv = KFold(n_splits=10,shuffle=True,random_state=42)"
      ],
      "execution_count": 0,
      "outputs": []
    },
    {
      "cell_type": "code",
      "metadata": {
        "id": "TATTc0kccjde",
        "colab_type": "code",
        "colab": {}
      },
      "source": [
        "def rmse(model):\n",
        "  rmse = np.sqrt(-cross_val_score(model,train_data,train_time,scoring=\"neg_mean_squared_error\",cv=outer_cv))\n",
        "  return(rmse)"
      ],
      "execution_count": 0,
      "outputs": []
    },
    {
      "cell_type": "code",
      "metadata": {
        "id": "Mw7hcLfQbCcn",
        "colab_type": "code",
        "outputId": "452559e2-b8e3-4c17-8ea7-2ef5beb03578",
        "colab": {
          "base_uri": "https://localhost:8080/",
          "height": 674
        }
      },
      "source": [
        "gbr = GradientBoostingRegressor()\n",
        "Adbr = AdaBoostRegressor()\n",
        "br = BaggingRegressor()\n",
        "dtr = DecisionTreeRegressor()\n",
        "rfr = RandomForestRegressor()\n",
        "xgbr = XGBRegressor()\n",
        "model_names = [\"Gradient Boosting Regressor\",\"AdaBoost Regressor\",\"Bagging Regressor\",\"Decision Tree Regressor\",\"Random Forest Regressor\",\"XGB Regressor\"]\n",
        "models = [gbr,Adbr,br,dtr,rfr,xgbr]\n",
        "for name,model in zip(model_names,models):\n",
        "  print(\"RMSE score for \",name,\" is : \",rmse(model).mean())\n",
        "  model.fit(train_data,train_time)\n",
        "  pred_views = model.predict(train_data)\n",
        "  print(\"R^2 Score for\",name,\"is : \",r2_score(train_time,pred_views),\"\\n\\n\")"
      ],
      "execution_count": 229,
      "outputs": [
        {
          "output_type": "stream",
          "text": [
            "RMSE score for  Gradient Boosting Regressor  is :  10.456859149996697\n",
            "R^2 Score for Gradient Boosting Regressor is :  0.338616334995673 \n",
            "\n",
            "\n",
            "RMSE score for  AdaBoost Regressor  is :  12.516498125220647\n",
            "R^2 Score for AdaBoost Regressor is :  0.022863268324090358 \n",
            "\n",
            "\n",
            "RMSE score for  Bagging Regressor  is :  9.6183354027818\n",
            "R^2 Score for Bagging Regressor is :  0.8785494695611371 \n",
            "\n",
            "\n",
            "RMSE score for  Decision Tree Regressor  is :  12.175464509951452\n",
            "R^2 Score for Decision Tree Regressor is :  0.9767928917067255 \n",
            "\n",
            "\n",
            "RMSE score for  Random Forest Regressor  is :  9.208842384407983\n",
            "R^2 Score for Random Forest Regressor is :  0.9085948198402398 \n",
            "\n",
            "\n",
            "[18:08:34] WARNING: /workspace/src/objective/regression_obj.cu:152: reg:linear is now deprecated in favor of reg:squarederror.\n",
            "[18:08:34] WARNING: /workspace/src/objective/regression_obj.cu:152: reg:linear is now deprecated in favor of reg:squarederror.\n",
            "[18:08:35] WARNING: /workspace/src/objective/regression_obj.cu:152: reg:linear is now deprecated in favor of reg:squarederror.\n",
            "[18:08:35] WARNING: /workspace/src/objective/regression_obj.cu:152: reg:linear is now deprecated in favor of reg:squarederror.\n",
            "[18:08:36] WARNING: /workspace/src/objective/regression_obj.cu:152: reg:linear is now deprecated in favor of reg:squarederror.\n",
            "[18:08:36] WARNING: /workspace/src/objective/regression_obj.cu:152: reg:linear is now deprecated in favor of reg:squarederror.\n",
            "[18:08:37] WARNING: /workspace/src/objective/regression_obj.cu:152: reg:linear is now deprecated in favor of reg:squarederror.\n",
            "[18:08:37] WARNING: /workspace/src/objective/regression_obj.cu:152: reg:linear is now deprecated in favor of reg:squarederror.\n",
            "[18:08:38] WARNING: /workspace/src/objective/regression_obj.cu:152: reg:linear is now deprecated in favor of reg:squarederror.\n",
            "[18:08:38] WARNING: /workspace/src/objective/regression_obj.cu:152: reg:linear is now deprecated in favor of reg:squarederror.\n",
            "RMSE score for  XGB Regressor  is :  10.45821612918954\n",
            "[18:08:39] WARNING: /workspace/src/objective/regression_obj.cu:152: reg:linear is now deprecated in favor of reg:squarederror.\n",
            "R^2 Score for XGB Regressor is :  0.3341801980034065 \n",
            "\n",
            "\n"
          ],
          "name": "stdout"
        }
      ]
    },
    {
      "cell_type": "code",
      "metadata": {
        "id": "hsLH89cAeref",
        "colab_type": "code",
        "outputId": "d616af8e-3d50-48f9-cf08-2017709f3109",
        "colab": {
          "base_uri": "https://localhost:8080/",
          "height": 72
        }
      },
      "source": [
        "pred_gbr = gbr.predict(train_data)\n",
        "pred_gbr[:15]"
      ],
      "execution_count": 31,
      "outputs": [
        {
          "output_type": "execute_result",
          "data": {
            "text/plain": [
              "array([31.89879638, 32.63343959, 40.59852515, 48.80360903, 52.3008794 ,\n",
              "       34.94973036, 38.84265041, 43.61851253, 38.55713901, 45.43097364,\n",
              "       40.31052168, 45.62345157, 30.9492238 , 40.20813065, 32.5580178 ])"
            ]
          },
          "metadata": {
            "tags": []
          },
          "execution_count": 31
        }
      ]
    },
    {
      "cell_type": "code",
      "metadata": {
        "id": "fMOyh9MwfAvI",
        "colab_type": "code",
        "outputId": "810ea94b-4e35-46a3-d41a-986f1a5afcc2",
        "colab": {
          "base_uri": "https://localhost:8080/",
          "height": 54
        }
      },
      "source": [
        "pred_dtr = dtr.predict(train_data)\n",
        "pred_dtr[:15]"
      ],
      "execution_count": 129,
      "outputs": [
        {
          "output_type": "execute_result",
          "data": {
            "text/plain": [
              "array([30., 30., 65., 30., 65., 30., 30., 45., 30., 65., 30., 45., 30.,\n",
              "       45., 30.])"
            ]
          },
          "metadata": {
            "tags": []
          },
          "execution_count": 129
        }
      ]
    },
    {
      "cell_type": "code",
      "metadata": {
        "id": "75WnajaNgVe2",
        "colab_type": "code",
        "outputId": "867d76b1-72bc-4aef-ca26-c3a94bb18a7f",
        "colab": {
          "base_uri": "https://localhost:8080/",
          "height": 35
        }
      },
      "source": [
        "test_data.shape"
      ],
      "execution_count": 137,
      "outputs": [
        {
          "output_type": "execute_result",
          "data": {
            "text/plain": [
              "(2774, 17)"
            ]
          },
          "metadata": {
            "tags": []
          },
          "execution_count": 137
        }
      ]
    },
    {
      "cell_type": "code",
      "metadata": {
        "id": "Z8jlUqPmfqoq",
        "colab_type": "code",
        "colab": {}
      },
      "source": [
        "num_col = ['Average_Cost','Minimum_Order','Rating','Reviews','Votes','No_of_Cuisines','Cuisine1','Cuisine2','Cuisine3','Cuisine4','Cuisine5','Cuisine6','Cuisine7','Cuisine8']\n",
        "test_data = test_data[num_col]"
      ],
      "execution_count": 0,
      "outputs": []
    },
    {
      "cell_type": "code",
      "metadata": {
        "id": "_MYCqsiOf4QZ",
        "colab_type": "code",
        "colab": {}
      },
      "source": [
        "pred_test = dtr.predict(test_data)"
      ],
      "execution_count": 0,
      "outputs": []
    },
    {
      "cell_type": "code",
      "metadata": {
        "id": "T2i0SQ0AgEpL",
        "colab_type": "code",
        "outputId": "5a67c408-103f-4a03-8237-e9b9c4fb7827",
        "colab": {
          "base_uri": "https://localhost:8080/",
          "height": 35
        }
      },
      "source": [
        "pred_test.shape"
      ],
      "execution_count": 232,
      "outputs": [
        {
          "output_type": "execute_result",
          "data": {
            "text/plain": [
              "(2774,)"
            ]
          },
          "metadata": {
            "tags": []
          },
          "execution_count": 232
        }
      ]
    },
    {
      "cell_type": "code",
      "metadata": {
        "id": "R292TbR6p8RF",
        "colab_type": "code",
        "colab": {}
      },
      "source": [
        "pred_test = pred_test.astype(int).astype(str)"
      ],
      "execution_count": 0,
      "outputs": []
    },
    {
      "cell_type": "code",
      "metadata": {
        "id": "oTT4D2ugnk_9",
        "colab_type": "code",
        "colab": {}
      },
      "source": [
        "pred_test = np.core.defchararray.add(pred_test,\" minutes\")"
      ],
      "execution_count": 0,
      "outputs": []
    },
    {
      "cell_type": "code",
      "metadata": {
        "id": "UlEE45r4tylx",
        "colab_type": "code",
        "colab": {}
      },
      "source": [
        "dtr2 = DecisionTreeRegressor()\n",
        "parameters = {\n",
        "    'max_features': ['sqrt', 'auto', 'log2'],\n",
        "    'min_samples_split': [6,8,10],\n",
        "    'max_depth': [80, 90, 100, 110],\n",
        "    'min_samples_leaf': [3, 4, 5]\n",
        "}\n",
        "\n",
        "dtr_grid = GridSearchCV(dtr2,\n",
        "                          parameters,\n",
        "                          scoring='neg_mean_squared_error', #this line can be commented to use XGB's default metric\n",
        "                          cv = inner_cv,\n",
        "                          n_jobs = 4,\n",
        "                          verbose=True)"
      ],
      "execution_count": 0,
      "outputs": []
    },
    {
      "cell_type": "code",
      "metadata": {
        "id": "g8muoSCkt24t",
        "colab_type": "code",
        "colab": {}
      },
      "source": [
        "dtr_pipeline = make_pipeline(StandardScaler(),dtr_grid).fit(train_data,train_time)"
      ],
      "execution_count": 0,
      "outputs": []
    },
    {
      "cell_type": "code",
      "metadata": {
        "id": "lT5ydn_UpKaH",
        "colab_type": "code",
        "colab": {}
      },
      "source": [
        "print(\"RMSE score for Decision Tree Regressor is : \",rmse(dtr_pipeline).mean())"
      ],
      "execution_count": 0,
      "outputs": []
    },
    {
      "cell_type": "code",
      "metadata": {
        "id": "nRyxZ37C43qj",
        "colab_type": "code",
        "colab": {
          "base_uri": "https://localhost:8080/",
          "height": 90
        },
        "outputId": "0f45f3cd-f6c5-4559-c9ed-caae45e6d594"
      },
      "source": [
        "dtr_grid.best_params_"
      ],
      "execution_count": 154,
      "outputs": [
        {
          "output_type": "execute_result",
          "data": {
            "text/plain": [
              "{'max_depth': 110,\n",
              " 'max_features': 'sqrt',\n",
              " 'min_samples_leaf': 5,\n",
              " 'min_samples_split': 6}"
            ]
          },
          "metadata": {
            "tags": []
          },
          "execution_count": 154
        }
      ]
    },
    {
      "cell_type": "code",
      "metadata": {
        "id": "PXM4K5Uk5AqV",
        "colab_type": "code",
        "colab": {}
      },
      "source": [
        "final_dtr = DecisionTreeRegressor(max_depth = 110,\n",
        " max_features = 'auto',\n",
        " min_samples_leaf = 5,\n",
        " min_samples_split = 8)"
      ],
      "execution_count": 0,
      "outputs": []
    },
    {
      "cell_type": "code",
      "metadata": {
        "id": "6_nyUjgZ9UgO",
        "colab_type": "code",
        "outputId": "5af61119-758e-4f7e-aa76-edca83865fbf",
        "colab": {
          "base_uri": "https://localhost:8080/",
          "height": 35
        }
      },
      "source": [
        "final_dtr_pipeline = make_pipeline(StandardScaler(),final_dtr).fit(train_data,train_time)\n",
        "print(r2_score(train_time,final_dtr_pipeline.predict(train_data)))"
      ],
      "execution_count": 156,
      "outputs": [
        {
          "output_type": "stream",
          "text": [
            "0.6465232211100798\n"
          ],
          "name": "stdout"
        }
      ]
    },
    {
      "cell_type": "code",
      "metadata": {
        "id": "R_ZY1rZoh0Pb",
        "colab_type": "code",
        "colab": {}
      },
      "source": [
        "My_submission = pd.DataFrame({\"Delivery_Time\":pred_test})\n",
        "My_submission.to_excel('my_submission.xlsx',index=False)"
      ],
      "execution_count": 0,
      "outputs": []
    }
  ]
}