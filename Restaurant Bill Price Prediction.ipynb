{
 "cells": [
  {
   "cell_type": "code",
   "execution_count": 1,
   "metadata": {},
   "outputs": [],
   "source": [
    "import pandas as pd\n",
    "import numpy as np"
   ]
  },
  {
   "cell_type": "code",
   "execution_count": 2,
   "metadata": {},
   "outputs": [],
   "source": [
    "train = pd.read_csv(\"C:\\\\Users\\\\Sahil Nathani\\\\Desktop\\\\Python and ML Material\\\\Databases\\\\MachineHack\\\\Restaurant_Price_Prediction\\\\train.csv\", encoding='ISO-8859-1')\n",
    "test = pd.read_csv(\"C:\\\\Users\\\\Sahil Nathani\\\\Desktop\\\\Python and ML Material\\\\Databases\\\\MachineHack\\\\Restaurant_Price_Prediction\\\\test.csv\", encoding='ISO-8859-1')\n",
    "train = train.drop(['RESTAURANT_ID'], axis=1)\n",
    "test = test.drop(['RESTAURANT_ID'], axis=1)"
   ]
  },
  {
   "cell_type": "code",
   "execution_count": 3,
   "metadata": {},
   "outputs": [
    {
     "data": {
      "text/plain": [
       "TITLE          0\n",
       "CUISINES       0\n",
       "TIME           0\n",
       "CITY          97\n",
       "LOCALITY      97\n",
       "RATING         0\n",
       "VOTES       1204\n",
       "COST           0\n",
       "dtype: int64"
      ]
     },
     "execution_count": 3,
     "metadata": {},
     "output_type": "execute_result"
    }
   ],
   "source": [
    "train.isnull().sum()"
   ]
  },
  {
   "cell_type": "code",
   "execution_count": 4,
   "metadata": {},
   "outputs": [
    {
     "data": {
      "text/plain": [
       "TITLE         0\n",
       "CUISINES      0\n",
       "TIME          0\n",
       "CITY         30\n",
       "LOCALITY     30\n",
       "RATING        0\n",
       "VOTES       400\n",
       "dtype: int64"
      ]
     },
     "execution_count": 4,
     "metadata": {},
     "output_type": "execute_result"
    }
   ],
   "source": [
    "test.isnull().sum()"
   ]
  },
  {
   "cell_type": "code",
   "execution_count": null,
   "metadata": {},
   "outputs": [],
   "source": []
  }
 ],
 "metadata": {
  "kernelspec": {
   "display_name": "Python 3",
   "language": "python",
   "name": "python3"
  },
  "language_info": {
   "codemirror_mode": {
    "name": "ipython",
    "version": 3
   },
   "file_extension": ".py",
   "mimetype": "text/x-python",
   "name": "python",
   "nbconvert_exporter": "python",
   "pygments_lexer": "ipython3",
   "version": "3.6.5"
  }
 },
 "nbformat": 4,
 "nbformat_minor": 2
}
